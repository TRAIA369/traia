{
  "nbformat": 4,
  "nbformat_minor": 0,
  "metadata": {
    "colab": {
      "name": "Blender2.ipynb",
      "provenance": [],
      "collapsed_sections": []
    },
    "kernelspec": {
      "name": "python3",
      "display_name": "Python 3"
    },
    "language_info": {
      "name": "python"
    }
  },
  "cells": [
    {
      "cell_type": "code",
      "metadata": {
        "id": "ZSYZ-S3vtgBF"
      },
      "source": [
        "import os\n",
        "import torch\n",
        "import torchvision\n",
        "import torch.nn as nn\n",
        "from tqdm.notebook import tqdm\n",
        "import torch.nn.functional as F\n",
        "import matplotlib.pyplot as plt\n",
        "from IPython.display import Image\n",
        "import torchvision.transforms as T\n",
        "from torch.utils.data import DataLoader\n",
        "from torchvision.utils import make_grid\n",
        "import torch.optim as optim\n",
        "from PIL import Image\n",
        "import torchvision.transforms as transforms\n",
        "import torchvision.models as models\n",
        "from torchvision.utils import save_image\n",
        "import random"
      ],
      "execution_count": null,
      "outputs": []
    },
    {
      "cell_type": "code",
      "metadata": {
        "colab": {
          "base_uri": "https://localhost:8080/"
        },
        "id": "CXUilDWTtoux",
        "outputId": "9f675b0d-f450-4419-bb30-9c6b250915ff"
      },
      "source": [
        "from google.colab import drive\n",
        "\n",
        "drive.mount('/content/gdrive')"
      ],
      "execution_count": null,
      "outputs": [
        {
          "output_type": "stream",
          "name": "stdout",
          "text": [
            "Drive already mounted at /content/gdrive; to attempt to forcibly remount, call drive.mount(\"/content/gdrive\", force_remount=True).\n"
          ]
        }
      ]
    },
    {
      "cell_type": "code",
      "metadata": {
        "colab": {
          "base_uri": "https://localhost:8080/"
        },
        "id": "TDl2d4jHtpdD",
        "outputId": "06390d6e-d04e-41e5-a0c6-b6fcf530b9c9"
      },
      "source": [
        "gpu_info = !nvidia-smi\n",
        "gpu_info = '\\n'.join(gpu_info)\n",
        "if gpu_info.find('failed') >= 0:\n",
        "  print('Not connected to a GPU')\n",
        "else:\n",
        "  print(gpu_info)"
      ],
      "execution_count": null,
      "outputs": [
        {
          "output_type": "stream",
          "name": "stdout",
          "text": [
            "Thu Oct 21 19:09:06 2021       \n",
            "+-----------------------------------------------------------------------------+\n",
            "| NVIDIA-SMI 470.74       Driver Version: 460.32.03    CUDA Version: 11.2     |\n",
            "|-------------------------------+----------------------+----------------------+\n",
            "| GPU  Name        Persistence-M| Bus-Id        Disp.A | Volatile Uncorr. ECC |\n",
            "| Fan  Temp  Perf  Pwr:Usage/Cap|         Memory-Usage | GPU-Util  Compute M. |\n",
            "|                               |                      |               MIG M. |\n",
            "|===============================+======================+======================|\n",
            "|   0  Tesla P100-PCIE...  Off  | 00000000:00:04.0 Off |                    0 |\n",
            "| N/A   63C    P0    47W / 250W |   3895MiB / 16280MiB |      0%      Default |\n",
            "|                               |                      |                  N/A |\n",
            "+-------------------------------+----------------------+----------------------+\n",
            "                                                                               \n",
            "+-----------------------------------------------------------------------------+\n",
            "| Processes:                                                                  |\n",
            "|  GPU   GI   CI        PID   Type   Process name                  GPU Memory |\n",
            "|        ID   ID                                                   Usage      |\n",
            "|=============================================================================|\n",
            "|  No running processes found                                                 |\n",
            "+-----------------------------------------------------------------------------+\n"
          ]
        }
      ]
    },
    {
      "cell_type": "code",
      "metadata": {
        "colab": {
          "base_uri": "https://localhost:8080/"
        },
        "id": "yHcFTgL0ASk3",
        "outputId": "339e3af5-8906-4ee7-a0ff-a1f81ec96284"
      },
      "source": [
        "def get_device():\n",
        "    if torch.cuda.is_available():\n",
        "        return torch.device(\"cuda\")\n",
        "    else:\n",
        "        return torch.device(\"cpu\")\n",
        "    \n",
        "def to_device(data, device):\n",
        "    if isinstance(data, (list,tuple)):\n",
        "        return [to_device(x, device) for x in data]\n",
        "    return data.to(device, non_blocking=True)\n",
        "\n",
        "device = get_device()\n",
        "device"
      ],
      "execution_count": null,
      "outputs": [
        {
          "output_type": "execute_result",
          "data": {
            "text/plain": [
              "device(type='cuda')"
            ]
          },
          "metadata": {},
          "execution_count": 56
        }
      ]
    },
    {
      "cell_type": "code",
      "metadata": {
        "id": "ulijeFqju8bP"
      },
      "source": [
        "########################################################################################"
      ],
      "execution_count": null,
      "outputs": []
    },
    {
      "cell_type": "code",
      "metadata": {
        "id": "eqVGdsxOu8qA"
      },
      "source": [
        "#sound"
      ],
      "execution_count": null,
      "outputs": []
    },
    {
      "cell_type": "code",
      "metadata": {
        "id": "JbH3_zzNuy7b"
      },
      "source": [
        "########################################################################################"
      ],
      "execution_count": null,
      "outputs": []
    },
    {
      "cell_type": "code",
      "metadata": {
        "id": "GBcsw3AtvjlI"
      },
      "source": [
        "latent_size=100\n"
      ],
      "execution_count": null,
      "outputs": []
    },
    {
      "cell_type": "code",
      "metadata": {
        "colab": {
          "base_uri": "https://localhost:8080/"
        },
        "id": "TRoibu4Fvjuy",
        "outputId": "726bc5be-c0bf-44f8-ff8b-3dbcb96199c9"
      },
      "source": [
        "generator = nn.Sequential(\n",
        "    #in: 128 x 1 x 1\n",
        "    \n",
        "    nn.ConvTranspose2d(latent_size, 1024, kernel_size=4, stride=1, padding=0, bias=False),\n",
        "    nn.BatchNorm2d(1024),\n",
        "    nn.ReLU(True),\n",
        "    #128 x 1024 x 4 x 4\n",
        "    \n",
        "    nn.ConvTranspose2d(1024, 512, kernel_size=4, stride=2, padding=1, bias=False),\n",
        "    nn.BatchNorm2d(512),\n",
        "    nn.ReLU(True),\n",
        "    #128 x 512 x 8 x 8\n",
        "    \n",
        "    nn.ConvTranspose2d(512, 256, kernel_size=4, stride=2, padding=1, bias=False),\n",
        "    nn.BatchNorm2d(256),\n",
        "    nn.ReLU(True),\n",
        "    #128 x 256 x 16 x 16\n",
        "    \n",
        "    nn.ConvTranspose2d(256, 128, kernel_size=4, stride=2, padding=1, bias=False),\n",
        "    nn.BatchNorm2d(128),\n",
        "    nn.ReLU(True),\n",
        "    #128 x 128 x 32 x 32\n",
        "    \n",
        "    nn.ConvTranspose2d(128, 64, kernel_size=4, stride=2, padding=1, bias=False),\n",
        "    nn.BatchNorm2d(64),\n",
        "    nn.ReLU(True),\n",
        "    #128 x 64 x 64 x 64\n",
        "    \n",
        "    nn.ConvTranspose2d(64, 3, kernel_size=4, stride=2, padding=1, bias=False),\n",
        "    #128 x 3 x 128 x 128\n",
        "    nn.Tanh()\n",
        "    \n",
        "    \n",
        ")\n",
        "generator = to_device(generator, device)\n",
        "generator.load_state_dict(torch.load(\"/content/gen-state-dict2\"))"
      ],
      "execution_count": null,
      "outputs": [
        {
          "output_type": "execute_result",
          "data": {
            "text/plain": [
              "<All keys matched successfully>"
            ]
          },
          "metadata": {},
          "execution_count": 61
        }
      ]
    },
    {
      "cell_type": "code",
      "metadata": {
        "id": "BGtqn97kuzFy"
      },
      "source": [
        "def image_push(sound_image):\n",
        "    fake_images = generator(sound_image)\n",
        "    \n",
        "    return fake_images"
      ],
      "execution_count": null,
      "outputs": []
    },
    {
      "cell_type": "code",
      "metadata": {
        "colab": {
          "base_uri": "https://localhost:8080/"
        },
        "id": "OvfXUKxo-9F9",
        "outputId": "467fc817-91e5-4f5c-c6f8-5cc8f562e65e"
      },
      "source": [
        "import random\n",
        "letters = \"As Prince Mohammed bin Salman said in his statement” The Saudis’ strength is like that of the Tuwaiq mountain, unbreakable, unless this mountain is leveled and equaled to the ground\"\n",
        "\n",
        "latent = [random.random() for _ in range(100)]\n",
        "latent = [ord(letter) - 96 for letter in letters]\n",
        "print(latent)\n",
        "if len(latent) < 100:\n",
        "  while len(latent)<100:\n",
        "    latent.append(0)\n",
        "elif len(latent) > 100:\n",
        "  latent = latent[:100]\n",
        "latent = torch.FloatTensor(latent)\n",
        "\n",
        "print(latent)"
      ],
      "execution_count": null,
      "outputs": [
        {
          "output_type": "stream",
          "name": "stdout",
          "text": [
            "[-31, 19, -64, -16, 18, 9, 14, 3, 5, -64, -19, 15, 8, 1, 13, 13, 5, 4, -64, 2, 9, 14, -64, -13, 1, 12, 13, 1, 14, -64, 19, 1, 9, 4, -64, 9, 14, -64, 8, 9, 19, -64, 19, 20, 1, 20, 5, 13, 5, 14, 20, 8125, -64, -12, 8, 5, -64, -13, 1, 21, 4, 9, 19, 8121, -64, 19, 20, 18, 5, 14, 7, 20, 8, -64, 9, 19, -64, 12, 9, 11, 5, -64, 20, 8, 1, 20, -64, 15, 6, -64, 20, 8, 5, -64, -12, 21, 23, 1, 9, 17, -64, 13, 15, 21, 14, 20, 1, 9, 14, -52, -64, 21, 14, 2, 18, 5, 1, 11, 1, 2, 12, 5, -52, -64, 21, 14, 12, 5, 19, 19, -64, 20, 8, 9, 19, -64, 13, 15, 21, 14, 20, 1, 9, 14, -64, 9, 19, -64, 12, 5, 22, 5, 12, 5, 4, -64, 1, 14, 4, -64, 5, 17, 21, 1, 12, 5, 4, -64, 20, 15, -64, 20, 8, 5, -64, 7, 18, 15, 21, 14, 4]\n",
            "tensor([-3.1000e+01,  1.9000e+01, -6.4000e+01, -1.6000e+01,  1.8000e+01,\n",
            "         9.0000e+00,  1.4000e+01,  3.0000e+00,  5.0000e+00, -6.4000e+01,\n",
            "        -1.9000e+01,  1.5000e+01,  8.0000e+00,  1.0000e+00,  1.3000e+01,\n",
            "         1.3000e+01,  5.0000e+00,  4.0000e+00, -6.4000e+01,  2.0000e+00,\n",
            "         9.0000e+00,  1.4000e+01, -6.4000e+01, -1.3000e+01,  1.0000e+00,\n",
            "         1.2000e+01,  1.3000e+01,  1.0000e+00,  1.4000e+01, -6.4000e+01,\n",
            "         1.9000e+01,  1.0000e+00,  9.0000e+00,  4.0000e+00, -6.4000e+01,\n",
            "         9.0000e+00,  1.4000e+01, -6.4000e+01,  8.0000e+00,  9.0000e+00,\n",
            "         1.9000e+01, -6.4000e+01,  1.9000e+01,  2.0000e+01,  1.0000e+00,\n",
            "         2.0000e+01,  5.0000e+00,  1.3000e+01,  5.0000e+00,  1.4000e+01,\n",
            "         2.0000e+01,  8.1250e+03, -6.4000e+01, -1.2000e+01,  8.0000e+00,\n",
            "         5.0000e+00, -6.4000e+01, -1.3000e+01,  1.0000e+00,  2.1000e+01,\n",
            "         4.0000e+00,  9.0000e+00,  1.9000e+01,  8.1210e+03, -6.4000e+01,\n",
            "         1.9000e+01,  2.0000e+01,  1.8000e+01,  5.0000e+00,  1.4000e+01,\n",
            "         7.0000e+00,  2.0000e+01,  8.0000e+00, -6.4000e+01,  9.0000e+00,\n",
            "         1.9000e+01, -6.4000e+01,  1.2000e+01,  9.0000e+00,  1.1000e+01,\n",
            "         5.0000e+00, -6.4000e+01,  2.0000e+01,  8.0000e+00,  1.0000e+00,\n",
            "         2.0000e+01, -6.4000e+01,  1.5000e+01,  6.0000e+00, -6.4000e+01,\n",
            "         2.0000e+01,  8.0000e+00,  5.0000e+00, -6.4000e+01, -1.2000e+01,\n",
            "         2.1000e+01,  2.3000e+01,  1.0000e+00,  9.0000e+00,  1.7000e+01])\n"
          ]
        }
      ]
    },
    {
      "cell_type": "code",
      "metadata": {
        "id": "aOxYlWmJ-9LI"
      },
      "source": [
        "save_image(test_image, \"style--.png\")"
      ],
      "execution_count": null,
      "outputs": []
    },
    {
      "cell_type": "code",
      "metadata": {
        "id": "4DEHn-Bs-9PA"
      },
      "source": [
        ""
      ],
      "execution_count": null,
      "outputs": []
    },
    {
      "cell_type": "code",
      "metadata": {
        "id": "rhRJv7eq-9Td"
      },
      "source": [
        ""
      ],
      "execution_count": null,
      "outputs": []
    },
    {
      "cell_type": "code",
      "metadata": {
        "id": "LhMReYiPuzal"
      },
      "source": [
        "########################################################################################"
      ],
      "execution_count": null,
      "outputs": []
    },
    {
      "cell_type": "code",
      "metadata": {
        "id": "xrKDiemEtpfa",
        "colab": {
          "base_uri": "https://localhost:8080/"
        },
        "outputId": "4ed2c9dc-2e25-430d-becd-520568e59fed"
      },
      "source": [
        "class VGG(nn.Module):\n",
        "    def __init__(self):\n",
        "        super(VGG, self).__init__()\n",
        "        self.chosen_features = [\"0\", \"5\", \"10\", \"19\", \"28\"]\n",
        "        self.model = models.vgg19(pretrained=True).features[:29]\n",
        "\n",
        "    def forward(self, x):\n",
        "        features = []\n",
        "        for layer_num, layer in enumerate(self.model):\n",
        "            x = layer(x)\n",
        "            if str(layer_num) in self.chosen_features:\n",
        "                features.append(x)\n",
        "        return features\n",
        "\n",
        "\n",
        "def load_image(image_name):\n",
        "    image = Image.open(image_name)\n",
        "    image = loader(image).unsqueeze(0)\n",
        "    return image.to(device)\n",
        "\n",
        "\n",
        "device = torch.device(\"cuda\" if torch.cuda.is_available() else \"cpu\")\n",
        "imsize = 356\n",
        "\n",
        "loader = transforms.Compose(\n",
        "    [\n",
        "        transforms.Resize((imsize, imsize)),\n",
        "        transforms.ToTensor(),\n",
        "    ]\n",
        ")\n",
        "\n",
        "original_img = load_image(\"/content/mbs3.jpeg\")\n",
        "style_img = load_image(\"/content/style.png\")\n",
        "\n",
        "generated = original_img.clone().requires_grad_(True)\n",
        "model = VGG().to(device).eval()\n",
        "\n",
        "total_steps = 4000\n",
        "learning_rate = 0.001\n",
        "alpha = 1\n",
        "beta = 0.01\n",
        "optimizer = optim.Adam([generated], lr=learning_rate)\n",
        "\n",
        "for step in range(total_steps):\n",
        "    generated_features = model(generated)\n",
        "    original_img_features = model(original_img)\n",
        "    style_features = model(style_img)\n",
        "\n",
        "    style_loss = original_loss = 0\n",
        "\n",
        "    for gen_feature, orig_feature, style_feature in zip(\n",
        "        generated_features, original_img_features, style_features\n",
        "    ):\n",
        "\n",
        "        batch_size, channel, height, width = gen_feature.shape\n",
        "        original_loss += torch.mean((gen_feature - orig_feature) ** 2)\n",
        "        G = gen_feature.view(channel, height * width).mm(\n",
        "            gen_feature.view(channel, height * width).t()\n",
        "        )\n",
        "        A = style_feature.view(channel, height * width).mm(\n",
        "            style_feature.view(channel, height * width).t()\n",
        "        )\n",
        "        style_loss += torch.mean((G - A) ** 2)\n",
        "\n",
        "    total_loss = alpha * original_loss + beta * style_loss\n",
        "    optimizer.zero_grad()\n",
        "    total_loss.backward()\n",
        "    optimizer.step()\n",
        "\n",
        "    if step % 200 == 0:\n",
        "        print(total_loss)\n",
        "        save_image(generated, \"generated.png\")"
      ],
      "execution_count": null,
      "outputs": [
        {
          "output_type": "stream",
          "name": "stdout",
          "text": [
            "tensor(4329382., device='cuda:0', grad_fn=<AddBackward0>)\n",
            "tensor(260893.7031, device='cuda:0', grad_fn=<AddBackward0>)\n",
            "tensor(115542.0547, device='cuda:0', grad_fn=<AddBackward0>)\n",
            "tensor(72712.8828, device='cuda:0', grad_fn=<AddBackward0>)\n",
            "tensor(51982.4688, device='cuda:0', grad_fn=<AddBackward0>)\n",
            "tensor(40033.2383, device='cuda:0', grad_fn=<AddBackward0>)\n",
            "tensor(32254.4414, device='cuda:0', grad_fn=<AddBackward0>)\n",
            "tensor(26736.1953, device='cuda:0', grad_fn=<AddBackward0>)\n",
            "tensor(22665.3496, device='cuda:0', grad_fn=<AddBackward0>)\n",
            "tensor(19571.4199, device='cuda:0', grad_fn=<AddBackward0>)\n",
            "tensor(17180.7578, device='cuda:0', grad_fn=<AddBackward0>)\n",
            "tensor(15287.7168, device='cuda:0', grad_fn=<AddBackward0>)\n",
            "tensor(13741.7549, device='cuda:0', grad_fn=<AddBackward0>)\n",
            "tensor(12456.8574, device='cuda:0', grad_fn=<AddBackward0>)\n",
            "tensor(11370.5264, device='cuda:0', grad_fn=<AddBackward0>)\n",
            "tensor(10433.2363, device='cuda:0', grad_fn=<AddBackward0>)\n",
            "tensor(9628.8838, device='cuda:0', grad_fn=<AddBackward0>)\n",
            "tensor(8929.2773, device='cuda:0', grad_fn=<AddBackward0>)\n",
            "tensor(8317.5996, device='cuda:0', grad_fn=<AddBackward0>)\n",
            "tensor(7771.7827, device='cuda:0', grad_fn=<AddBackward0>)\n"
          ]
        }
      ]
    },
    {
      "cell_type": "code",
      "metadata": {
        "id": "_IJxLgB-QRob"
      },
      "source": [
        ""
      ],
      "execution_count": null,
      "outputs": []
    },
    {
      "cell_type": "code",
      "metadata": {
        "colab": {
          "base_uri": "https://localhost:8080/"
        },
        "id": "IuYPE11IQRv2",
        "outputId": "f863e100-9847-4c49-d1e3-1699c4889433"
      },
      "source": [
        "class VGG(nn.Module):\n",
        "    def __init__(self):\n",
        "        super(VGG, self).__init__()\n",
        "        self.chosen_features = [\"0\", \"5\", \"10\", \"19\", \"28\"]\n",
        "        self.model = models.vgg19(pretrained=True).features[:29]\n",
        "\n",
        "    def forward(self, x):\n",
        "        features = []\n",
        "        for layer_num, layer in enumerate(self.model):\n",
        "            x = layer(x)\n",
        "            if str(layer_num) in self.chosen_features:\n",
        "                features.append(x)\n",
        "        return features\n",
        "\n",
        "\n",
        "def load_image(image_name):\n",
        "    image = Image.open(image_name)\n",
        "    image = loader(image).unsqueeze(0)\n",
        "    return image.to(device)\n",
        "\n",
        "\n",
        "device = torch.device(\"cuda\" if torch.cuda.is_available() else \"cpu\")\n",
        "imsize = 356\n",
        "\n",
        "loader = transforms.Compose(\n",
        "    [\n",
        "        transforms.Resize((imsize, imsize)),\n",
        "        transforms.ToTensor(),\n",
        "    ]\n",
        ")\n",
        "\n",
        "original_img = load_image(\"/content/mbs3.jpeg\")\n",
        "style_img = load_image(\"/content/style0000.jpg\")\n",
        "\n",
        "generated = original_img.clone().requires_grad_(True)\n",
        "model = VGG().to(device).eval()\n",
        "\n",
        "total_steps = 4000\n",
        "learning_rate = 0.001\n",
        "alpha = 1\n",
        "beta = 0.01\n",
        "optimizer = optim.Adam([generated], lr=learning_rate)\n",
        "\n",
        "for step in range(total_steps):\n",
        "    generated_features = model(generated)\n",
        "    original_img_features = model(original_img)\n",
        "    style_features = model(style_img)\n",
        "\n",
        "    style_loss = original_loss = 0\n",
        "\n",
        "    for gen_feature, orig_feature, style_feature in zip(\n",
        "        generated_features, original_img_features, style_features\n",
        "    ):\n",
        "\n",
        "        batch_size, channel, height, width = gen_feature.shape\n",
        "        original_loss += torch.mean((gen_feature - orig_feature) ** 2)\n",
        "        G = gen_feature.view(channel, height * width).mm(\n",
        "            gen_feature.view(channel, height * width).t()\n",
        "        )\n",
        "        A = style_feature.view(channel, height * width).mm(\n",
        "            style_feature.view(channel, height * width).t()\n",
        "        )\n",
        "        style_loss += torch.mean((G - A) ** 2)\n",
        "\n",
        "    total_loss = alpha * original_loss + beta * style_loss\n",
        "    optimizer.zero_grad()\n",
        "    total_loss.backward()\n",
        "    optimizer.step()\n",
        "\n",
        "    if step % 200 == 0:\n",
        "        print(total_loss)\n",
        "        save_image(generated, \"generated_Ran.png\")"
      ],
      "execution_count": null,
      "outputs": [
        {
          "output_type": "stream",
          "name": "stdout",
          "text": [
            "tensor(328985.6250, device='cuda:0', grad_fn=<AddBackward0>)\n",
            "tensor(47060.3281, device='cuda:0', grad_fn=<AddBackward0>)\n",
            "tensor(34825.5273, device='cuda:0', grad_fn=<AddBackward0>)\n",
            "tensor(29693.5273, device='cuda:0', grad_fn=<AddBackward0>)\n",
            "tensor(26399.9746, device='cuda:0', grad_fn=<AddBackward0>)\n",
            "tensor(23863.8848, device='cuda:0', grad_fn=<AddBackward0>)\n",
            "tensor(21778.5820, device='cuda:0', grad_fn=<AddBackward0>)\n",
            "tensor(19974.3594, device='cuda:0', grad_fn=<AddBackward0>)\n",
            "tensor(18358.5352, device='cuda:0', grad_fn=<AddBackward0>)\n",
            "tensor(16896.7422, device='cuda:0', grad_fn=<AddBackward0>)\n",
            "tensor(15562.0898, device='cuda:0', grad_fn=<AddBackward0>)\n",
            "tensor(14329.7266, device='cuda:0', grad_fn=<AddBackward0>)\n",
            "tensor(13197.5078, device='cuda:0', grad_fn=<AddBackward0>)\n",
            "tensor(12162.7979, device='cuda:0', grad_fn=<AddBackward0>)\n",
            "tensor(11226.7305, device='cuda:0', grad_fn=<AddBackward0>)\n",
            "tensor(10367.9854, device='cuda:0', grad_fn=<AddBackward0>)\n",
            "tensor(9591.0332, device='cuda:0', grad_fn=<AddBackward0>)\n",
            "tensor(8889.3701, device='cuda:0', grad_fn=<AddBackward0>)\n",
            "tensor(8250.8086, device='cuda:0', grad_fn=<AddBackward0>)\n",
            "tensor(7670.6816, device='cuda:0', grad_fn=<AddBackward0>)\n"
          ]
        }
      ]
    },
    {
      "cell_type": "code",
      "metadata": {
        "id": "LNN0LEt4tpit"
      },
      "source": [
        ""
      ],
      "execution_count": null,
      "outputs": []
    },
    {
      "cell_type": "code",
      "metadata": {
        "id": "hW71Ccortpko",
        "colab": {
          "base_uri": "https://localhost:8080/",
          "height": 286
        },
        "outputId": "66369c82-e172-4416-f632-d1a79ddd00c8"
      },
      "source": [
        "import cv2\n",
        "gan = cv2.imread('/content/generated.png', 0)\n",
        "ran = cv2.imread('/content/generated_Ran.png', 0)\n",
        "\n",
        "total = cv2.addWeighted(gan, 0.9, ran, 0.1, 0)\n",
        "total = cv2.cvtColor(total,cv2.COLOR_BGR2RGB)\n",
        "plt.imshow(total)"
      ],
      "execution_count": null,
      "outputs": [
        {
          "output_type": "execute_result",
          "data": {
            "text/plain": [
              "<matplotlib.image.AxesImage at 0x7fa87008ea50>"
            ]
          },
          "metadata": {},
          "execution_count": 82
        },
        {
          "output_type": "display_data",
          "data": {
            "image/png": "[encoded data removed]",
            "text/plain": [
              "<Figure size 432x288 with 1 Axes>"
            ]
          },
          "metadata": {
            "needs_background": "light"
          }
        }
      ]
    },
    {
      "cell_type": "code",
      "metadata": {
        "id": "k71a5WvuRktC"
      },
      "source": [
        ""
      ],
      "execution_count": null,
      "outputs": []
    }
  ]
}